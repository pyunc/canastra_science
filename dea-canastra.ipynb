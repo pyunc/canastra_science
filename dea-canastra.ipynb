{
 "cells": [
  {
   "cell_type": "code",
   "execution_count": 25,
   "metadata": {},
   "outputs": [],
   "source": [
    "import os\n",
    "\n",
    "os.chdir(\"/home/pauloyun/Documentos/model-canastra/pyDEA/pydea\")"
   ]
  },
  {
   "cell_type": "code",
   "execution_count": 46,
   "metadata": {},
   "outputs": [],
   "source": [
    "import numpy as np\n",
    "import matplotlib.pyplot as plt\n",
    "import seaborn as sns\n",
    "import dea as dea\n",
    "import tools\n",
    "import plot\n",
    "import pandas as pd\n",
    "import pulp\n",
    "\n",
    "%matplotlib inline"
   ]
  },
  {
   "cell_type": "code",
   "execution_count": 30,
   "metadata": {},
   "outputs": [],
   "source": [
    "# https://github.com/jzuccollo/pyDEA\n",
    "\n",
    "# https://github.com/jzuccollo/pyDEA/blob/master/pydea/examples/Simple%20university%20example.ipynb\n",
    "\n",
    "#https://araith.github.io/pyDEA/DEApy_usage.html"
   ]
  },
  {
   "cell_type": "code",
   "execution_count": 142,
   "metadata": {},
   "outputs": [
    {
     "data": {
      "text/html": [
       "<div>\n",
       "<style scoped>\n",
       "    .dataframe tbody tr th:only-of-type {\n",
       "        vertical-align: middle;\n",
       "    }\n",
       "\n",
       "    .dataframe tbody tr th {\n",
       "        vertical-align: top;\n",
       "    }\n",
       "\n",
       "    .dataframe thead th {\n",
       "        text-align: right;\n",
       "    }\n",
       "</style>\n",
       "<table border=\"1\" class=\"dataframe\">\n",
       "  <thead>\n",
       "    <tr style=\"text-align: right;\">\n",
       "      <th></th>\n",
       "      <th>Teaching staff</th>\n",
       "      <th>Research staff</th>\n",
       "      <th>Undergraduates</th>\n",
       "      <th>Masters</th>\n",
       "      <th>Publications</th>\n",
       "      <th>Funding</th>\n",
       "      <th>City_size</th>\n",
       "    </tr>\n",
       "  </thead>\n",
       "  <tbody>\n",
       "    <tr>\n",
       "      <th>0</th>\n",
       "      <td>100</td>\n",
       "      <td>70</td>\n",
       "      <td>1540</td>\n",
       "      <td>154</td>\n",
       "      <td>59</td>\n",
       "      <td>5.152626</td>\n",
       "      <td>5254.31862</td>\n",
       "    </tr>\n",
       "    <tr>\n",
       "      <th>1</th>\n",
       "      <td>120</td>\n",
       "      <td>123</td>\n",
       "      <td>1408</td>\n",
       "      <td>186</td>\n",
       "      <td>23</td>\n",
       "      <td>5.152626</td>\n",
       "      <td>11039.09010</td>\n",
       "    </tr>\n",
       "    <tr>\n",
       "      <th>2</th>\n",
       "      <td>50</td>\n",
       "      <td>20</td>\n",
       "      <td>690</td>\n",
       "      <td>59</td>\n",
       "      <td>76</td>\n",
       "      <td>5.152626</td>\n",
       "      <td>5883.56035</td>\n",
       "    </tr>\n",
       "    <tr>\n",
       "      <th>3</th>\n",
       "      <td>67</td>\n",
       "      <td>17</td>\n",
       "      <td>674</td>\n",
       "      <td>73</td>\n",
       "      <td>90</td>\n",
       "      <td>5.152626</td>\n",
       "      <td>1548.34181</td>\n",
       "    </tr>\n",
       "    <tr>\n",
       "      <th>4</th>\n",
       "      <td>98</td>\n",
       "      <td>20</td>\n",
       "      <td>1686</td>\n",
       "      <td>197</td>\n",
       "      <td>12</td>\n",
       "      <td>5.152626</td>\n",
       "      <td>14043.32970</td>\n",
       "    </tr>\n",
       "    <tr>\n",
       "      <th>5</th>\n",
       "      <td>500</td>\n",
       "      <td>100</td>\n",
       "      <td>5000</td>\n",
       "      <td>5000</td>\n",
       "      <td>5000</td>\n",
       "      <td>5.152626</td>\n",
       "      <td>3750.47428</td>\n",
       "    </tr>\n",
       "  </tbody>\n",
       "</table>\n",
       "</div>"
      ],
      "text/plain": [
       "   Teaching staff  Research staff  Undergraduates  Masters  Publications  \\\n",
       "0             100              70            1540      154            59   \n",
       "1             120             123            1408      186            23   \n",
       "2              50              20             690       59            76   \n",
       "3              67              17             674       73            90   \n",
       "4              98              20            1686      197            12   \n",
       "5             500             100            5000     5000          5000   \n",
       "\n",
       "    Funding    City_size  \n",
       "0  5.152626   5254.31862  \n",
       "1  5.152626  11039.09010  \n",
       "2  5.152626   5883.56035  \n",
       "3  5.152626   1548.34181  \n",
       "4  5.152626  14043.32970  \n",
       "5  5.152626   3750.47428  "
      ]
     },
     "execution_count": 142,
     "metadata": {},
     "output_type": "execute_result"
    }
   ],
   "source": [
    "inputs = pd.DataFrame([[100, 70], [120, 123], [50, 20], [67, 17], [98, 20], [500, 100]], columns=['Teaching staff', 'Research staff'])\n",
    "outputs = pd.DataFrame([[1540, 154, 59], [1408, 186, 23 ], [690, 59, 76], [674, 73, 90], [1686, 197, 12], [5000, 5000, 5000]], columns=['Undergraduates', 'Masters', 'Publications'])\n",
    "env_vars = pd.DataFrame([[  5.15262633e+00,   5.25431862e+03],\n",
    "       [  5.15262633e+00,   1.10390901e+04],\n",
    "       [  5.15262633e+00,   5.88356035e+03],\n",
    "       [  5.15262633e+00,   1.54834181e+03],\n",
    "       [  5.15262633e+00,   1.40433297e+04],\n",
    "       [  5.15262633e+00,   3.75047428e+03]], columns=['Funding', 'City_size'])\n",
    "\n",
    "\n",
    "pd.concat([inputs,outputs,env_vars],axis=1)"
   ]
  },
  {
   "cell_type": "code",
   "execution_count": 151,
   "metadata": {},
   "outputs": [],
   "source": [
    "uni_prob = dea.DEAProblem(pd.concat([inputs,env_vars],axis=1), outputs, returns='CRS')"
   ]
  },
  {
   "cell_type": "code",
   "execution_count": 177,
   "metadata": {},
   "outputs": [],
   "source": [
    "myresults = uni_prob.solve()"
   ]
  },
  {
   "cell_type": "code",
   "execution_count": 178,
   "metadata": {},
   "outputs": [
    {
     "data": {
      "text/plain": [
       "0    1.000000\n",
       "1    0.772789\n",
       "2    0.864829\n",
       "3    0.902248\n",
       "4    1.000000\n",
       "5    1.000000\n",
       "Name: Efficiency, dtype: float64"
      ]
     },
     "execution_count": 178,
     "metadata": {},
     "output_type": "execute_result"
    }
   ],
   "source": [
    "myresults['Efficiency']"
   ]
  },
  {
   "cell_type": "code",
   "execution_count": 154,
   "metadata": {},
   "outputs": [
    {
     "data": {
      "text/plain": [
       "<matplotlib.axes._subplots.AxesSubplot at 0x7f542a34f630>"
      ]
     },
     "execution_count": 154,
     "metadata": {},
     "output_type": "execute_result"
    },
    {
     "data": {
      "image/png": "[encoded data removed]",
      "text/plain": [
       "<Figure size 432x288 with 1 Axes>"
      ]
     },
     "metadata": {
      "needs_background": "light"
     },
     "output_type": "display_data"
    }
   ],
   "source": [
    "myresults['Efficiency'].hist()"
   ]
  },
  {
   "cell_type": "code",
   "execution_count": 161,
   "metadata": {},
   "outputs": [
    {
     "data": {
      "text/html": [
       "<div>\n",
       "<style scoped>\n",
       "    .dataframe tbody tr th:only-of-type {\n",
       "        vertical-align: middle;\n",
       "    }\n",
       "\n",
       "    .dataframe tbody tr th {\n",
       "        vertical-align: top;\n",
       "    }\n",
       "\n",
       "    .dataframe thead th {\n",
       "        text-align: right;\n",
       "    }\n",
       "</style>\n",
       "<table border=\"1\" class=\"dataframe\">\n",
       "  <thead>\n",
       "    <tr style=\"text-align: right;\">\n",
       "      <th></th>\n",
       "      <th>in_City_size</th>\n",
       "      <th>in_Funding</th>\n",
       "      <th>in_Research staff</th>\n",
       "      <th>in_Teaching staff</th>\n",
       "      <th>out_Masters</th>\n",
       "      <th>out_Publications</th>\n",
       "      <th>out_Undergraduates</th>\n",
       "    </tr>\n",
       "  </thead>\n",
       "  <tbody>\n",
       "    <tr>\n",
       "      <th>0</th>\n",
       "      <td>0.000013</td>\n",
       "      <td>0.000000</td>\n",
       "      <td>0.000000</td>\n",
       "      <td>0.009322</td>\n",
       "      <td>0.0000</td>\n",
       "      <td>0.000000</td>\n",
       "      <td>0.000649</td>\n",
       "    </tr>\n",
       "    <tr>\n",
       "      <th>1</th>\n",
       "      <td>0.000010</td>\n",
       "      <td>0.060748</td>\n",
       "      <td>0.000000</td>\n",
       "      <td>0.004786</td>\n",
       "      <td>0.0000</td>\n",
       "      <td>0.000000</td>\n",
       "      <td>0.000549</td>\n",
       "    </tr>\n",
       "    <tr>\n",
       "      <th>2</th>\n",
       "      <td>0.000021</td>\n",
       "      <td>0.000000</td>\n",
       "      <td>0.000000</td>\n",
       "      <td>0.017572</td>\n",
       "      <td>0.0000</td>\n",
       "      <td>0.000584</td>\n",
       "      <td>0.001189</td>\n",
       "    </tr>\n",
       "    <tr>\n",
       "      <th>3</th>\n",
       "      <td>0.000071</td>\n",
       "      <td>0.000000</td>\n",
       "      <td>0.008082</td>\n",
       "      <td>0.011239</td>\n",
       "      <td>0.0000</td>\n",
       "      <td>0.000000</td>\n",
       "      <td>0.001339</td>\n",
       "    </tr>\n",
       "    <tr>\n",
       "      <th>4</th>\n",
       "      <td>0.000000</td>\n",
       "      <td>0.000000</td>\n",
       "      <td>0.000000</td>\n",
       "      <td>0.010204</td>\n",
       "      <td>0.0000</td>\n",
       "      <td>0.000000</td>\n",
       "      <td>0.000593</td>\n",
       "    </tr>\n",
       "    <tr>\n",
       "      <th>5</th>\n",
       "      <td>0.000000</td>\n",
       "      <td>0.000000</td>\n",
       "      <td>0.000000</td>\n",
       "      <td>0.002000</td>\n",
       "      <td>0.0002</td>\n",
       "      <td>0.000000</td>\n",
       "      <td>0.000000</td>\n",
       "    </tr>\n",
       "  </tbody>\n",
       "</table>\n",
       "</div>"
      ],
      "text/plain": [
       "   in_City_size  in_Funding  in_Research staff  in_Teaching staff  \\\n",
       "0      0.000013    0.000000           0.000000           0.009322   \n",
       "1      0.000010    0.060748           0.000000           0.004786   \n",
       "2      0.000021    0.000000           0.000000           0.017572   \n",
       "3      0.000071    0.000000           0.008082           0.011239   \n",
       "4      0.000000    0.000000           0.000000           0.010204   \n",
       "5      0.000000    0.000000           0.000000           0.002000   \n",
       "\n",
       "   out_Masters  out_Publications  out_Undergraduates  \n",
       "0       0.0000          0.000000            0.000649  \n",
       "1       0.0000          0.000000            0.000549  \n",
       "2       0.0000          0.000584            0.001189  \n",
       "3       0.0000          0.000000            0.001339  \n",
       "4       0.0000          0.000000            0.000593  \n",
       "5       0.0002          0.000000            0.000000  "
      ]
     },
     "execution_count": 161,
     "metadata": {},
     "output_type": "execute_result"
    }
   ],
   "source": [
    "myresults['Weights']"
   ]
  },
  {
   "cell_type": "code",
   "execution_count": 163,
   "metadata": {},
   "outputs": [
    {
     "data": {
      "text/plain": [
       "Text(0.5, 1.0, 'Distribution of efficiency scores')"
      ]
     },
     "execution_count": 163,
     "metadata": {},
     "output_type": "execute_result"
    },
    {
     "data": {
      "image/png": "[encoded data removed]",
      "text/plain": [
       "<Figure size 432x288 with 1 Axes>"
      ]
     },
     "metadata": {
      "needs_background": "light"
     },
     "output_type": "display_data"
    }
   ],
   "source": [
    "myresults['Efficiency'].hist(bins=50)\n",
    "plt.ylabel('Frequency')\n",
    "plt.xlabel('Efficiency score')\n",
    "plt.title('Distribution of efficiency scores')"
   ]
  },
  {
   "cell_type": "code",
   "execution_count": 164,
   "metadata": {},
   "outputs": [
    {
     "data": {
      "image/png": "[encoded data removed]",
      "text/plain": [
       "<Figure size 432x288 with 1 Axes>"
      ]
     },
     "metadata": {
      "needs_background": "light"
     },
     "output_type": "display_data"
    }
   ],
   "source": [
    "indat_pca = tools.deaPCA(pd.concat([inputs],axis=1))"
   ]
  },
  {
   "cell_type": "code",
   "execution_count": 165,
   "metadata": {},
   "outputs": [
    {
     "data": {
      "image/png": "[encoded data removed]",
      "text/plain": [
       "<Figure size 432x288 with 1 Axes>"
      ]
     },
     "metadata": {
      "needs_background": "light"
     },
     "output_type": "display_data"
    }
   ],
   "source": [
    "outdat_pca = tools.deaPCA(pd.concat([outputs],axis=1))"
   ]
  },
  {
   "cell_type": "code",
   "execution_count": 166,
   "metadata": {},
   "outputs": [
    {
     "data": {
      "text/plain": [
       "<matplotlib.collections.PathCollection at 0x7f5405e49080>"
      ]
     },
     "execution_count": 166,
     "metadata": {},
     "output_type": "execute_result"
    },
    {
     "data": {
      "image/png": "[encoded data removed]",
      "text/plain": [
       "<Figure size 432x288 with 1 Axes>"
      ]
     },
     "metadata": {
      "needs_background": "light"
     },
     "output_type": "display_data"
    }
   ],
   "source": [
    "plt.scatter(indat_pca.T.values[0],outdat_pca.T.values[0])"
   ]
  },
  {
   "cell_type": "code",
   "execution_count": 167,
   "metadata": {},
   "outputs": [
    {
     "name": "stdout",
     "output_type": "stream",
     "text": [
      "CPU times: user 6.29 ms, sys: 851 µs, total: 7.14 ms\n",
      "Wall time: 7.04 ms\n"
     ]
    }
   ],
   "source": [
    "%%time\n",
    "pcaDEA = dea.DEAProblem(indat_pca.iloc[:,:2], outdat_pca.iloc[:,:2], returns='CRS')"
   ]
  },
  {
   "cell_type": "code",
   "execution_count": 168,
   "metadata": {},
   "outputs": [
    {
     "name": "stdout",
     "output_type": "stream",
     "text": [
      "CPU times: user 13.6 ms, sys: 38.5 ms, total: 52.2 ms\n",
      "Wall time: 106 ms\n"
     ]
    }
   ],
   "source": [
    "%%time\n",
    "pcaResults = pcaDEA.solve()"
   ]
  },
  {
   "cell_type": "code",
   "execution_count": 169,
   "metadata": {},
   "outputs": [
    {
     "data": {
      "text/plain": [
       "<matplotlib.legend.Legend at 0x7f5405dec668>"
      ]
     },
     "execution_count": 169,
     "metadata": {},
     "output_type": "execute_result"
    },
    {
     "data": {
      "image/png": "[encoded data removed]",
      "text/plain": [
       "<Figure size 432x288 with 1 Axes>"
      ]
     },
     "metadata": {
      "needs_background": "light"
     },
     "output_type": "display_data"
    }
   ],
   "source": [
    "fig1, ax1 = plt.subplots()\n",
    "pcaResults['Efficiency'].hist(bins=50, ax=ax1, alpha=0.4)\n",
    "myresults['Efficiency'].hist(bins=50, ax=ax1, alpha=0.2)\n",
    "plt.legend(['PCA', 'Raw'])"
   ]
  }
 ],
 "metadata": {
  "kernelspec": {
   "display_name": "Python 3",
   "language": "python",
   "name": "python3"
  },
  "language_info": {
   "codemirror_mode": {
    "name": "ipython",
    "version": 3
   },
   "file_extension": ".py",
   "mimetype": "text/x-python",
   "name": "python",
   "nbconvert_exporter": "python",
   "pygments_lexer": "ipython3",
   "version": "3.7.3"
  }
 },
 "nbformat": 4,
 "nbformat_minor": 2
}
